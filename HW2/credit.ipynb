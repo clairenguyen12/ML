{
 "cells": [
  {
   "cell_type": "markdown",
   "metadata": {},
   "source": [
    "Student Name: Chi Nguyen\n",
    "Machine Learning for Public Policy\n",
    "HW2 - Applying a machine learning pipeline to the credit dataset\n",
    "Pipeline codes are in the file clean.py"
   ]
  },
  {
   "cell_type": "code",
   "execution_count": 1,
   "metadata": {},
   "outputs": [],
   "source": [
    "import clean"
   ]
  },
  {
   "cell_type": "code",
   "execution_count": 2,
   "metadata": {},
   "outputs": [],
   "source": [
    "PERSON_ID = 'PersonID'\n",
    "DELINQUENT = 'SeriousDlqin2yrs'\n",
    "REV_UTIL = 'RevolvingUtilizationOfUnsecuredLines'\n",
    "PAST_DUE_LESS_THAN_SIXTY = 'NumberOfTime30-59DaysPastDueNotWorse'\n",
    "AGE = 'age'\n",
    "ZIPCODE = 'zipcode'\n",
    "DEBT_RATIO = 'DebtRatio'\n",
    "INCOME = 'MonthlyIncome'\n",
    "OPEN_CREDIT = 'NumberOfOpenCreditLinesAndLoans'\n",
    "PAST_DUE_NINETY = 'NumberOfTimes90DaysLate'\n",
    "PAST_DUE_LESS_THAN_NINETY = 'NumberOfTime60-89DaysPastDueNotWorse'\n",
    "REAL_ESTATE_LINES = 'NumberRealEstateLoansOrLines'\n",
    "DEPENDENTS = 'NumberOfDependents'"
   ]
  },
  {
   "cell_type": "code",
   "execution_count": 3,
   "metadata": {},
   "outputs": [],
   "source": [
    "AGE_BINS = [0, 21, 36, 50, 65, 110]\n",
    "AGE_LABELS = ['juvenile', 'young_adult', 'adult', 'middle_aged', 'senior']\n",
    "INCOME_LABELS = ['low', 'medium', 'high']\n",
    "REV_UTIL_LABELS = ['low', 'medium', 'high', 'very high']\n",
    "DEBT_LABELS = ['low', 'medium', 'high']\n",
    "OPEN_CREDIT_LABELS = ['low', 'medium', 'high']\n",
    "REAL_ESTATE_LABELS = ['low', 'high']"
   ]
  },
  {
   "cell_type": "markdown",
   "metadata": {},
   "source": [
    "# Step 1 - Read data"
   ]
  },
  {
   "cell_type": "code",
   "execution_count": 4,
   "metadata": {},
   "outputs": [],
   "source": [
    "credit = clean.import_csv(\"credit-data.csv\")"
   ]
  },
  {
   "cell_type": "markdown",
   "metadata": {},
   "source": [
    "# Step 2 - Explore data"
   ]
  },
  {
   "cell_type": "code",
   "execution_count": 5,
   "metadata": {},
   "outputs": [
    {
     "name": "stdout",
     "output_type": "stream",
     "text": [
      "Let's take a look at the first 10 lines of the dataframe!\n",
      "\n",
      "   PersonID  SeriousDlqin2yrs  RevolvingUtilizationOfUnsecuredLines  age  \\\n",
      "0     98976                 0                              1.000000   55   \n",
      "1     98991                 0                              0.547745   71   \n",
      "2     99012                 0                              0.044280   51   \n",
      "3     99023                 0                              0.914249   55   \n",
      "4     99027                 0                              0.026599   45   \n",
      "5     99033                 0                              0.142231   57   \n",
      "6     99044                 0                              0.047601   48   \n",
      "7     99048                 0                              0.022141   34   \n",
      "8     99056                 0                              0.241805   30   \n",
      "9     99058                 0                              0.036181   71   \n",
      "\n",
      "   zipcode  NumberOfTime30-59DaysPastDueNotWorse   DebtRatio  MonthlyIncome  \\\n",
      "0    60601                                     0  505.000000            0.0   \n",
      "1    60601                                     0    0.459565        15666.0   \n",
      "2    60601                                     0    0.014520         4200.0   \n",
      "3    60601                                     4    0.794875         9052.0   \n",
      "4    60601                                     0    0.049966        10406.0   \n",
      "5    60601                                     0    0.015332        13500.0   \n",
      "6    60601                                     0    0.474609         3583.0   \n",
      "7    60601                                     0    0.003332         2700.0   \n",
      "8    60601                                     0    0.864452         3400.0   \n",
      "9    60601                                     0    0.568798         5050.0   \n",
      "\n",
      "   NumberOfOpenCreditLinesAndLoans  NumberOfTimes90DaysLate  \\\n",
      "0                                2                        0   \n",
      "1                                7                        0   \n",
      "2                                5                        0   \n",
      "3                               12                        0   \n",
      "4                                4                        0   \n",
      "5                                6                        0   \n",
      "6                               13                        0   \n",
      "7                                2                        0   \n",
      "8                               13                        0   \n",
      "9                               16                        0   \n",
      "\n",
      "   NumberRealEstateLoansOrLines  NumberOfTime60-89DaysPastDueNotWorse  \\\n",
      "0                             0                                     0   \n",
      "1                             2                                     0   \n",
      "2                             0                                     0   \n",
      "3                             3                                     0   \n",
      "4                             0                                     0   \n",
      "5                             0                                     0   \n",
      "6                             1                                     0   \n",
      "7                             0                                     0   \n",
      "8                             1                                     0   \n",
      "9                             2                                     0   \n",
      "\n",
      "   NumberOfDependents  \n",
      "0                 0.0  \n",
      "1                 0.0  \n",
      "2                 0.0  \n",
      "3                 0.0  \n",
      "4                 2.0  \n",
      "5                 0.0  \n",
      "6                 1.0  \n",
      "7                 1.0  \n",
      "8                 1.0  \n",
      "9                 0.0  \n",
      "\n",
      "\n",
      "Dataframe's shape: (41016, 13)\n",
      "\n",
      "\n",
      "Data types:\n",
      "\n",
      "PersonID                                  int64\n",
      "SeriousDlqin2yrs                          int64\n",
      "RevolvingUtilizationOfUnsecuredLines    float64\n",
      "age                                       int64\n",
      "zipcode                                   int64\n",
      "NumberOfTime30-59DaysPastDueNotWorse      int64\n",
      "DebtRatio                               float64\n",
      "MonthlyIncome                           float64\n",
      "NumberOfOpenCreditLinesAndLoans           int64\n",
      "NumberOfTimes90DaysLate                   int64\n",
      "NumberRealEstateLoansOrLines              int64\n",
      "NumberOfTime60-89DaysPastDueNotWorse      int64\n",
      "NumberOfDependents                      float64\n",
      "dtype: object\n",
      "\n",
      "\n",
      "Distribution of the variables in the dataframe:\n",
      "\n",
      "            PersonID  SeriousDlqin2yrs  RevolvingUtilizationOfUnsecuredLines  \\\n",
      "count   41016.000000      41016.000000                           41016.00000   \n",
      "mean   115800.154598          0.161400                               6.37587   \n",
      "std     28112.723511          0.367904                             221.61895   \n",
      "min        22.000000          0.000000                               0.00000   \n",
      "25%    106539.750000          0.000000                               0.03431   \n",
      "50%    119901.500000          0.000000                               0.18973   \n",
      "75%    134698.250000          0.000000                               0.66716   \n",
      "max    149999.000000          1.000000                           22000.00000   \n",
      "\n",
      "                age       zipcode  NumberOfTime30-59DaysPastDueNotWorse  \\\n",
      "count  41016.000000  41016.000000                          41016.000000   \n",
      "mean      51.683489  60623.824166                              0.589233   \n",
      "std       14.746880     11.984357                              5.205628   \n",
      "min       21.000000  60601.000000                              0.000000   \n",
      "25%       41.000000  60618.000000                              0.000000   \n",
      "50%       51.000000  60625.000000                              0.000000   \n",
      "75%       62.000000  60629.000000                              0.000000   \n",
      "max      109.000000  60644.000000                             98.000000   \n",
      "\n",
      "           DebtRatio  MonthlyIncome  NumberOfOpenCreditLinesAndLoans  \\\n",
      "count   41016.000000   3.304200e+04                     41016.000000   \n",
      "mean      331.458137   6.578996e+03                         8.403477   \n",
      "std      1296.109695   1.344683e+04                         5.207324   \n",
      "min         0.000000   0.000000e+00                         0.000000   \n",
      "25%         0.176375   3.333000e+03                         5.000000   \n",
      "50%         0.369736   5.250000e+03                         8.000000   \n",
      "75%         0.866471   8.055750e+03                        11.000000   \n",
      "max    106885.000000   1.794060e+06                        56.000000   \n",
      "\n",
      "       NumberOfTimes90DaysLate  NumberRealEstateLoansOrLines  \\\n",
      "count             41016.000000                  41016.000000   \n",
      "mean                  0.419592                      1.008801   \n",
      "std                   5.190382                      1.153826   \n",
      "min                   0.000000                      0.000000   \n",
      "25%                   0.000000                      0.000000   \n",
      "50%                   0.000000                      1.000000   \n",
      "75%                   0.000000                      2.000000   \n",
      "max                  98.000000                     32.000000   \n",
      "\n",
      "       NumberOfTime60-89DaysPastDueNotWorse  NumberOfDependents  \n",
      "count                          41016.000000        39979.000000  \n",
      "mean                               0.371587            0.773231  \n",
      "std                                5.169641            1.121269  \n",
      "min                                0.000000            0.000000  \n",
      "25%                                0.000000            0.000000  \n",
      "50%                                0.000000            0.000000  \n",
      "75%                                0.000000            1.000000  \n",
      "max                               98.000000           13.000000  \n"
     ]
    }
   ],
   "source": [
    "clean.explore_data(credit)"
   ]
  },
  {
   "cell_type": "markdown",
   "metadata": {},
   "source": [
    "The credit dataset has 13 columns and 41016 observations. All the columns are either integers or floats. In terms of data distribution, there are a three columns that draw attention:\n",
    "\n",
    "-  Revolving utilization: the data for this column has a very wide range. 75% of the people in the datasets have utilization rate below 70% and there's a subset of people with abnormally high utilization rate. This suggests the presence of outliers, and we will deal with them in Step 3.\n",
    "-  Debt Ratio: 75% of the people in this dataset has debt ratio of 87% or below. Again, there's a subset of people with abnormally high debt ratio. We will keep all of these observations for analysis.\n",
    "-  Monthly Income: Maximum monthly income is 1.8 Million. This is very high, but seems reasonable if the person of interest is a billionaire. We will keep these outliers for analysis."
   ]
  },
  {
   "cell_type": "code",
   "execution_count": 6,
   "metadata": {},
   "outputs": [
    {
     "data": {
      "image/png": "[encoded data removed]",
      "text/plain": [
       "<Figure size 432x288 with 1 Axes>"
      ]
     },
     "metadata": {
      "needs_background": "light"
     },
     "output_type": "display_data"
    }
   ],
   "source": [
    "clean.create_boxplot(credit, \n",
    "                     REV_UTIL, \n",
    "                     DELINQUENT,\n",
    "                     \"Serious Delinquent In 2 Years\",\n",
    "                     \"Revolving Utilization Rate\",\n",
    "                     \"Distribution of Revolving Utilization by Delinquent Outcome\")"
   ]
  },
  {
   "cell_type": "markdown",
   "metadata": {},
   "source": [
    "The group who did not default has a wider range in revolving utilization rate than the group who defaulted. In fact, most of the extreme outliers with revolving utilization rate above 5000 all belong to the not-default group."
   ]
  },
  {
   "cell_type": "code",
   "execution_count": 7,
   "metadata": {},
   "outputs": [
    {
     "data": {
      "image/png": "[encoded data removed]",
      "text/plain": [
       "<Figure size 432x288 with 1 Axes>"
      ]
     },
     "metadata": {
      "needs_background": "light"
     },
     "output_type": "display_data"
    }
   ],
   "source": [
    "clean.create_boxplot(credit, \n",
    "                     INCOME, \n",
    "                     DELINQUENT,\n",
    "                     \"Serious Delinquent In 2 Years\",\n",
    "                     \"Monthly Income\",\n",
    "                     \"Distribution of Monthly Income by Delinquent Outcome\")"
   ]
  },
  {
   "cell_type": "markdown",
   "metadata": {},
   "source": [
    "The group who did not default has a wider range of monthly income than the group who defaulted. Most of the extreme outliers with really high monthly income comparing to the average of the sample belong to the group who did not default."
   ]
  },
  {
   "cell_type": "code",
   "execution_count": 8,
   "metadata": {},
   "outputs": [
    {
     "data": {
      "image/png": "[encoded data removed]",
      "text/plain": [
       "<Figure size 432x288 with 1 Axes>"
      ]
     },
     "metadata": {
      "needs_background": "light"
     },
     "output_type": "display_data"
    }
   ],
   "source": [
    "clean.create_boxplot(credit, \n",
    "                     DEBT_RATIO, \n",
    "                     DELINQUENT,\n",
    "                     \"Serious Delinquent In 2 Years\",\n",
    "                     \"Debt Ratio\",\n",
    "                     \"Distribution of Debt Ratio by Delinquent Outcome\")"
   ]
  },
  {
   "cell_type": "markdown",
   "metadata": {},
   "source": [
    "Similarly, the debt ratio in the group did not default is wider than the group who defaulted."
   ]
  },
  {
   "cell_type": "code",
   "execution_count": 9,
   "metadata": {},
   "outputs": [
    {
     "data": {
      "image/png": "[encoded data removed]",
      "text/plain": [
       "<Figure size 432x288 with 1 Axes>"
      ]
     },
     "metadata": {
      "needs_background": "light"
     },
     "output_type": "display_data"
    }
   ],
   "source": [
    "clean.create_boxplot(credit, \n",
    "                     PAST_DUE_LESS_THAN_SIXTY, \n",
    "                     DELINQUENT,\n",
    "                     \"Serious Delinquent In 2 Years\",\n",
    "                     \"Times Past Due Within 30-59 Days\",\n",
    "                     \"Distribution of Times Past Due by Delinquent Outcome\")"
   ]
  },
  {
   "cell_type": "markdown",
   "metadata": {},
   "source": [
    "The distribution of times past due within 30-59 days for the two groups default and not-default is strikingly different. The group who defaulted tends to have higher number of times credit payment was past due within 30-59 days than the group who did not default. This result seems reasonable since we would expect default group to deliver payment later or fails to deliver payment more often."
   ]
  },
  {
   "cell_type": "code",
   "execution_count": 10,
   "metadata": {},
   "outputs": [
    {
     "data": {
      "image/png": "[encoded data removed]",
      "text/plain": [
       "<Figure size 432x288 with 2 Axes>"
      ]
     },
     "metadata": {
      "needs_background": "light"
     },
     "output_type": "display_data"
    }
   ],
   "source": [
    "clean.create_corr_heatmap(credit)"
   ]
  },
  {
   "cell_type": "markdown",
   "metadata": {},
   "source": [
    "This is the correlation heatmap for all "
   ]
  },
  {
   "cell_type": "code",
   "execution_count": 11,
   "metadata": {},
   "outputs": [
    {
     "name": "stdout",
     "output_type": "stream",
     "text": [
      "Outliers' shape:\n",
      "(61, 13)\n"
     ]
    }
   ],
   "source": [
    "outlier_revutil = clean.find_outliers(credit, REV_UTIL)"
   ]
  },
  {
   "cell_type": "code",
   "execution_count": 12,
   "metadata": {},
   "outputs": [
    {
     "name": "stdout",
     "output_type": "stream",
     "text": [
      "Outliers' shape:\n",
      "(601, 13)\n"
     ]
    }
   ],
   "source": [
    "outlier_debt_ratio = clean.find_outliers(credit, DEBT_RATIO)"
   ]
  },
  {
   "cell_type": "code",
   "execution_count": 13,
   "metadata": {},
   "outputs": [
    {
     "name": "stdout",
     "output_type": "stream",
     "text": [
      "Outliers' shape:\n",
      "(93, 13)\n"
     ]
    }
   ],
   "source": [
    "outlier_income = clean.find_outliers(credit, INCOME)"
   ]
  },
  {
   "cell_type": "markdown",
   "metadata": {},
   "source": [
    "# Step 3 - Preprocess"
   ]
  },
  {
   "cell_type": "code",
   "execution_count": 14,
   "metadata": {},
   "outputs": [
    {
     "name": "stdout",
     "output_type": "stream",
     "text": [
      "Brief overview of the number of missingobservations for each column:\n",
      "\n",
      "MonthlyIncome                           7974\n",
      "NumberOfDependents                      1037\n",
      "NumberOfTime60-89DaysPastDueNotWorse       0\n",
      "NumberRealEstateLoansOrLines               0\n",
      "NumberOfTimes90DaysLate                    0\n",
      "NumberOfOpenCreditLinesAndLoans            0\n",
      "DebtRatio                                  0\n",
      "NumberOfTime30-59DaysPastDueNotWorse       0\n",
      "zipcode                                    0\n",
      "age                                        0\n",
      "RevolvingUtilizationOfUnsecuredLines       0\n",
      "SeriousDlqin2yrs                           0\n",
      "PersonID                                   0\n",
      "dtype: int64\n",
      "\n",
      "\n",
      "\n",
      "List of columns that contain missing data:\n",
      "\n",
      "['MonthlyIncome', 'NumberOfDependents']\n",
      "\n",
      "\n",
      "Brief overview of the data distribution after pre-processing:\n",
      "\n",
      "            PersonID  SeriousDlqin2yrs  RevolvingUtilizationOfUnsecuredLines  \\\n",
      "count   41016.000000      41016.000000                          41016.000000   \n",
      "mean   115800.154598          0.161400                              0.354558   \n",
      "std     28112.723511          0.367904                              0.366519   \n",
      "min        22.000000          0.000000                              0.000000   \n",
      "25%    106539.750000          0.000000                              0.034310   \n",
      "50%    119901.500000          0.000000                              0.189730   \n",
      "75%    134698.250000          0.000000                              0.667160   \n",
      "max    149999.000000          1.000000                              1.000000   \n",
      "\n",
      "                age       zipcode  NumberOfTime30-59DaysPastDueNotWorse  \\\n",
      "count  41016.000000  41016.000000                          41016.000000   \n",
      "mean      51.683489  60623.824166                              0.589233   \n",
      "std       14.746880     11.984357                              5.205628   \n",
      "min       21.000000  60601.000000                              0.000000   \n",
      "25%       41.000000  60618.000000                              0.000000   \n",
      "50%       51.000000  60625.000000                              0.000000   \n",
      "75%       62.000000  60629.000000                              0.000000   \n",
      "max      109.000000  60644.000000                             98.000000   \n",
      "\n",
      "           DebtRatio  MonthlyIncome  NumberOfOpenCreditLinesAndLoans  \\\n",
      "count   41016.000000   4.101600e+04                     41016.000000   \n",
      "mean      331.458137   6.320623e+03                         8.403477   \n",
      "std      1296.109695   1.208056e+04                         5.207324   \n",
      "min         0.000000   0.000000e+00                         0.000000   \n",
      "25%         0.176375   3.800000e+03                         5.000000   \n",
      "50%         0.369736   5.250000e+03                         8.000000   \n",
      "75%         0.866471   7.245500e+03                        11.000000   \n",
      "max    106885.000000   1.794060e+06                        56.000000   \n",
      "\n",
      "       NumberOfTimes90DaysLate  NumberRealEstateLoansOrLines  \\\n",
      "count             41016.000000                  41016.000000   \n",
      "mean                  0.419592                      1.008801   \n",
      "std                   5.190382                      1.153826   \n",
      "min                   0.000000                      0.000000   \n",
      "25%                   0.000000                      0.000000   \n",
      "50%                   0.000000                      1.000000   \n",
      "75%                   0.000000                      2.000000   \n",
      "max                  98.000000                     32.000000   \n",
      "\n",
      "       NumberOfTime60-89DaysPastDueNotWorse  NumberOfDependents  \n",
      "count                          41016.000000        41016.000000  \n",
      "mean                               0.371587            0.753681  \n",
      "std                                5.169641            1.113639  \n",
      "min                                0.000000            0.000000  \n",
      "25%                                0.000000            0.000000  \n",
      "50%                                0.000000            0.000000  \n",
      "75%                                0.000000            1.000000  \n",
      "max                               98.000000           13.000000  \n"
     ]
    }
   ],
   "source": [
    "clean.pre_process(credit, REV_UTIL)"
   ]
  },
  {
   "cell_type": "markdown",
   "metadata": {},
   "source": [
    "# Step 4 - Generate features/predictors"
   ]
  },
  {
   "cell_type": "code",
   "execution_count": 15,
   "metadata": {},
   "outputs": [],
   "source": [
    "clean.convert_to_categorical_using_cut(credit, AGE, 'age_group', AGE_BINS, AGE_LABELS)"
   ]
  },
  {
   "cell_type": "code",
   "execution_count": 16,
   "metadata": {},
   "outputs": [],
   "source": [
    "clean.convert_to_categorical_using_qcut(credit, INCOME, 'income_group', 3, INCOME_LABELS)"
   ]
  },
  {
   "cell_type": "code",
   "execution_count": 17,
   "metadata": {},
   "outputs": [],
   "source": [
    "clean.convert_to_categorical_using_qcut(credit, REV_UTIL, 'rev_util_group', 4, REV_UTIL_LABELS)"
   ]
  },
  {
   "cell_type": "code",
   "execution_count": 18,
   "metadata": {},
   "outputs": [],
   "source": [
    "TIMES_PAST_DUE_BINS = [0, credit[PAST_DUE_LESS_THAN_SIXTY].mean(), credit[PAST_DUE_LESS_THAN_SIXTY].max()]\n",
    "TIMES_PAST_DUE_LABELS = ['normal', 'high']\n",
    "clean.convert_to_categorical_using_cut(credit, \n",
    "                                       PAST_DUE_LESS_THAN_SIXTY, \n",
    "                                       'times_past_due_group', \n",
    "                                       TIMES_PAST_DUE_BINS, \n",
    "                                       TIMES_PAST_DUE_LABELS)"
   ]
  },
  {
   "cell_type": "code",
   "execution_count": 19,
   "metadata": {},
   "outputs": [],
   "source": [
    "clean.convert_to_categorical_using_qcut(credit, DEBT_RATIO, 'debt_group', 3, DEBT_LABELS)"
   ]
  },
  {
   "cell_type": "code",
   "execution_count": 20,
   "metadata": {},
   "outputs": [],
   "source": [
    "clean.convert_to_categorical_using_qcut(credit, OPEN_CREDIT, 'open_credit_group', 3, OPEN_CREDIT_LABELS)"
   ]
  },
  {
   "cell_type": "code",
   "execution_count": 21,
   "metadata": {},
   "outputs": [],
   "source": [
    "clean.convert_to_categorical_using_qcut(credit, REAL_ESTATE_LINES, 'real_estate_group', 2, REAL_ESTATE_LABELS)"
   ]
  },
  {
   "cell_type": "code",
   "execution_count": 22,
   "metadata": {},
   "outputs": [],
   "source": [
    "cols_to_transform = ['age_group', \n",
    "                     'income_group', \n",
    "                     'rev_util_group', \n",
    "                     'times_past_due_group',\n",
    "                     'debt_group',\n",
    "                     'open_credit_group',\n",
    "                     'real_estate_group']"
   ]
  },
  {
   "cell_type": "code",
   "execution_count": 23,
   "metadata": {},
   "outputs": [],
   "source": [
    "credit = clean.convert_to_binary(credit, cols_to_transform)"
   ]
  },
  {
   "cell_type": "code",
   "execution_count": 24,
   "metadata": {},
   "outputs": [
    {
     "data": {
      "text/html": [
       "<div>\n",
       "<style scoped>\n",
       "    .dataframe tbody tr th:only-of-type {\n",
       "        vertical-align: middle;\n",
       "    }\n",
       "\n",
       "    .dataframe tbody tr th {\n",
       "        vertical-align: top;\n",
       "    }\n",
       "\n",
       "    .dataframe thead th {\n",
       "        text-align: right;\n",
       "    }\n",
       "</style>\n",
       "<table border=\"1\" class=\"dataframe\">\n",
       "  <thead>\n",
       "    <tr style=\"text-align: right;\">\n",
       "      <th></th>\n",
       "      <th>PersonID</th>\n",
       "      <th>SeriousDlqin2yrs</th>\n",
       "      <th>RevolvingUtilizationOfUnsecuredLines</th>\n",
       "      <th>age</th>\n",
       "      <th>zipcode</th>\n",
       "      <th>NumberOfTime30-59DaysPastDueNotWorse</th>\n",
       "      <th>DebtRatio</th>\n",
       "      <th>MonthlyIncome</th>\n",
       "      <th>NumberOfOpenCreditLinesAndLoans</th>\n",
       "      <th>NumberOfTimes90DaysLate</th>\n",
       "      <th>...</th>\n",
       "      <th>times_past_due_group_normal</th>\n",
       "      <th>times_past_due_group_high</th>\n",
       "      <th>debt_group_low</th>\n",
       "      <th>debt_group_medium</th>\n",
       "      <th>debt_group_high</th>\n",
       "      <th>open_credit_group_low</th>\n",
       "      <th>open_credit_group_medium</th>\n",
       "      <th>open_credit_group_high</th>\n",
       "      <th>real_estate_group_low</th>\n",
       "      <th>real_estate_group_high</th>\n",
       "    </tr>\n",
       "  </thead>\n",
       "  <tbody>\n",
       "    <tr>\n",
       "      <th>0</th>\n",
       "      <td>98976</td>\n",
       "      <td>0</td>\n",
       "      <td>1.000000</td>\n",
       "      <td>55</td>\n",
       "      <td>60601</td>\n",
       "      <td>0</td>\n",
       "      <td>505.000000</td>\n",
       "      <td>0.0</td>\n",
       "      <td>2</td>\n",
       "      <td>0</td>\n",
       "      <td>...</td>\n",
       "      <td>1</td>\n",
       "      <td>0</td>\n",
       "      <td>0</td>\n",
       "      <td>0</td>\n",
       "      <td>1</td>\n",
       "      <td>1</td>\n",
       "      <td>0</td>\n",
       "      <td>0</td>\n",
       "      <td>1</td>\n",
       "      <td>0</td>\n",
       "    </tr>\n",
       "    <tr>\n",
       "      <th>1</th>\n",
       "      <td>98991</td>\n",
       "      <td>0</td>\n",
       "      <td>0.547745</td>\n",
       "      <td>71</td>\n",
       "      <td>60601</td>\n",
       "      <td>0</td>\n",
       "      <td>0.459565</td>\n",
       "      <td>15666.0</td>\n",
       "      <td>7</td>\n",
       "      <td>0</td>\n",
       "      <td>...</td>\n",
       "      <td>1</td>\n",
       "      <td>0</td>\n",
       "      <td>0</td>\n",
       "      <td>1</td>\n",
       "      <td>0</td>\n",
       "      <td>0</td>\n",
       "      <td>1</td>\n",
       "      <td>0</td>\n",
       "      <td>0</td>\n",
       "      <td>1</td>\n",
       "    </tr>\n",
       "    <tr>\n",
       "      <th>2</th>\n",
       "      <td>99012</td>\n",
       "      <td>0</td>\n",
       "      <td>0.044280</td>\n",
       "      <td>51</td>\n",
       "      <td>60601</td>\n",
       "      <td>0</td>\n",
       "      <td>0.014520</td>\n",
       "      <td>4200.0</td>\n",
       "      <td>5</td>\n",
       "      <td>0</td>\n",
       "      <td>...</td>\n",
       "      <td>1</td>\n",
       "      <td>0</td>\n",
       "      <td>1</td>\n",
       "      <td>0</td>\n",
       "      <td>0</td>\n",
       "      <td>1</td>\n",
       "      <td>0</td>\n",
       "      <td>0</td>\n",
       "      <td>1</td>\n",
       "      <td>0</td>\n",
       "    </tr>\n",
       "    <tr>\n",
       "      <th>3</th>\n",
       "      <td>99023</td>\n",
       "      <td>0</td>\n",
       "      <td>0.914249</td>\n",
       "      <td>55</td>\n",
       "      <td>60601</td>\n",
       "      <td>4</td>\n",
       "      <td>0.794875</td>\n",
       "      <td>9052.0</td>\n",
       "      <td>12</td>\n",
       "      <td>0</td>\n",
       "      <td>...</td>\n",
       "      <td>0</td>\n",
       "      <td>1</td>\n",
       "      <td>0</td>\n",
       "      <td>0</td>\n",
       "      <td>1</td>\n",
       "      <td>0</td>\n",
       "      <td>0</td>\n",
       "      <td>1</td>\n",
       "      <td>0</td>\n",
       "      <td>1</td>\n",
       "    </tr>\n",
       "    <tr>\n",
       "      <th>4</th>\n",
       "      <td>99027</td>\n",
       "      <td>0</td>\n",
       "      <td>0.026599</td>\n",
       "      <td>45</td>\n",
       "      <td>60601</td>\n",
       "      <td>0</td>\n",
       "      <td>0.049966</td>\n",
       "      <td>10406.0</td>\n",
       "      <td>4</td>\n",
       "      <td>0</td>\n",
       "      <td>...</td>\n",
       "      <td>1</td>\n",
       "      <td>0</td>\n",
       "      <td>1</td>\n",
       "      <td>0</td>\n",
       "      <td>0</td>\n",
       "      <td>1</td>\n",
       "      <td>0</td>\n",
       "      <td>0</td>\n",
       "      <td>1</td>\n",
       "      <td>0</td>\n",
       "    </tr>\n",
       "  </tbody>\n",
       "</table>\n",
       "<p>5 rows × 35 columns</p>\n",
       "</div>"
      ],
      "text/plain": [
       "   PersonID  SeriousDlqin2yrs  RevolvingUtilizationOfUnsecuredLines  age  \\\n",
       "0     98976                 0                              1.000000   55   \n",
       "1     98991                 0                              0.547745   71   \n",
       "2     99012                 0                              0.044280   51   \n",
       "3     99023                 0                              0.914249   55   \n",
       "4     99027                 0                              0.026599   45   \n",
       "\n",
       "   zipcode  NumberOfTime30-59DaysPastDueNotWorse   DebtRatio  MonthlyIncome  \\\n",
       "0    60601                                     0  505.000000            0.0   \n",
       "1    60601                                     0    0.459565        15666.0   \n",
       "2    60601                                     0    0.014520         4200.0   \n",
       "3    60601                                     4    0.794875         9052.0   \n",
       "4    60601                                     0    0.049966        10406.0   \n",
       "\n",
       "   NumberOfOpenCreditLinesAndLoans  NumberOfTimes90DaysLate  ...  \\\n",
       "0                                2                        0  ...   \n",
       "1                                7                        0  ...   \n",
       "2                                5                        0  ...   \n",
       "3                               12                        0  ...   \n",
       "4                                4                        0  ...   \n",
       "\n",
       "   times_past_due_group_normal  times_past_due_group_high  debt_group_low  \\\n",
       "0                            1                          0               0   \n",
       "1                            1                          0               0   \n",
       "2                            1                          0               1   \n",
       "3                            0                          1               0   \n",
       "4                            1                          0               1   \n",
       "\n",
       "   debt_group_medium  debt_group_high  open_credit_group_low  \\\n",
       "0                  0                1                      1   \n",
       "1                  1                0                      0   \n",
       "2                  0                0                      1   \n",
       "3                  0                1                      0   \n",
       "4                  0                0                      1   \n",
       "\n",
       "   open_credit_group_medium  open_credit_group_high  real_estate_group_low  \\\n",
       "0                         0                       0                      1   \n",
       "1                         1                       0                      0   \n",
       "2                         0                       0                      1   \n",
       "3                         0                       1                      0   \n",
       "4                         0                       0                      1   \n",
       "\n",
       "   real_estate_group_high  \n",
       "0                       0  \n",
       "1                       1  \n",
       "2                       0  \n",
       "3                       1  \n",
       "4                       0  \n",
       "\n",
       "[5 rows x 35 columns]"
      ]
     },
     "execution_count": 24,
     "metadata": {},
     "output_type": "execute_result"
    }
   ],
   "source": [
    "credit.head()"
   ]
  },
  {
   "cell_type": "code",
   "execution_count": 25,
   "metadata": {},
   "outputs": [
    {
     "data": {
      "text/plain": [
       "(41016, 35)"
      ]
     },
     "execution_count": 25,
     "metadata": {},
     "output_type": "execute_result"
    }
   ],
   "source": [
    "credit.shape"
   ]
  },
  {
   "cell_type": "markdown",
   "metadata": {},
   "source": [
    "# Step 5 - Build Classifier"
   ]
  },
  {
   "cell_type": "code",
   "execution_count": 26,
   "metadata": {},
   "outputs": [
    {
     "data": {
      "text/plain": [
       "['age_group_juvenile',\n",
       " 'age_group_young_adult',\n",
       " 'age_group_adult',\n",
       " 'age_group_middle_aged',\n",
       " 'age_group_senior',\n",
       " 'income_group_low',\n",
       " 'income_group_medium',\n",
       " 'income_group_high',\n",
       " 'rev_util_group_low',\n",
       " 'rev_util_group_medium',\n",
       " 'rev_util_group_high',\n",
       " 'rev_util_group_very high',\n",
       " 'times_past_due_group_normal',\n",
       " 'times_past_due_group_high',\n",
       " 'debt_group_low',\n",
       " 'debt_group_medium',\n",
       " 'debt_group_high',\n",
       " 'open_credit_group_low',\n",
       " 'open_credit_group_medium',\n",
       " 'open_credit_group_high',\n",
       " 'real_estate_group_low',\n",
       " 'real_estate_group_high']"
      ]
     },
     "execution_count": 26,
     "metadata": {},
     "output_type": "execute_result"
    }
   ],
   "source": [
    "selected_features = list(credit.columns[13:])\n",
    "selected_features"
   ]
  },
  {
   "cell_type": "code",
   "execution_count": 27,
   "metadata": {},
   "outputs": [],
   "source": [
    "outcome_col = DELINQUENT"
   ]
  },
  {
   "cell_type": "code",
   "execution_count": 28,
   "metadata": {},
   "outputs": [],
   "source": [
    "test_size = 0.2"
   ]
  },
  {
   "cell_type": "code",
   "execution_count": 29,
   "metadata": {},
   "outputs": [],
   "source": [
    "random_state = 100"
   ]
  },
  {
   "cell_type": "code",
   "execution_count": 30,
   "metadata": {},
   "outputs": [],
   "source": [
    "(x_train, x_test, y_train, y_test) = clean.build_datasets(selected_features, outcome_col, test_size, credit, random_state)"
   ]
  },
  {
   "cell_type": "code",
   "execution_count": 31,
   "metadata": {},
   "outputs": [],
   "source": [
    "max_depth = 4"
   ]
  },
  {
   "cell_type": "code",
   "execution_count": 32,
   "metadata": {},
   "outputs": [],
   "source": [
    "dec_tree = clean.build_tree(max_depth, x_train, y_train)"
   ]
  },
  {
   "cell_type": "markdown",
   "metadata": {},
   "source": [
    "# Step 6 - Evaluate Classifier using accuracy"
   ]
  },
  {
   "cell_type": "code",
   "execution_count": 33,
   "metadata": {},
   "outputs": [],
   "source": [
    "threshold = .2"
   ]
  },
  {
   "cell_type": "code",
   "execution_count": 34,
   "metadata": {},
   "outputs": [
    {
     "name": "stdout",
     "output_type": "stream",
     "text": [
      "Histogram to show predicted scores when performed on test data:\n"
     ]
    },
    {
     "data": {
      "image/png": "[encoded data removed]",
      "text/plain": [
       "<Figure size 432x288 with 1 Axes>"
      ]
     },
     "metadata": {
      "needs_background": "light"
     },
     "output_type": "display_data"
    },
    {
     "name": "stdout",
     "output_type": "stream",
     "text": [
      "\n",
      "With the chosen threshold 0.2, chosen max_depth 4 and criterion gini the accuracy of the model is 0.772549975621648\n"
     ]
    }
   ],
   "source": [
    "test_acc = clean.evaluate_classifier(dec_tree, x_test, y_test, threshold)"
   ]
  },
  {
   "cell_type": "code",
   "execution_count": 35,
   "metadata": {},
   "outputs": [
    {
     "data": {
      "text/html": [
       "<div>\n",
       "<style scoped>\n",
       "    .dataframe tbody tr th:only-of-type {\n",
       "        vertical-align: middle;\n",
       "    }\n",
       "\n",
       "    .dataframe tbody tr th {\n",
       "        vertical-align: top;\n",
       "    }\n",
       "\n",
       "    .dataframe thead th {\n",
       "        text-align: right;\n",
       "    }\n",
       "</style>\n",
       "<table border=\"1\" class=\"dataframe\">\n",
       "  <thead>\n",
       "    <tr style=\"text-align: right;\">\n",
       "      <th></th>\n",
       "      <th>Feature</th>\n",
       "      <th>Importance Weight</th>\n",
       "    </tr>\n",
       "  </thead>\n",
       "  <tbody>\n",
       "    <tr>\n",
       "      <th>0</th>\n",
       "      <td>rev_util_group_very high</td>\n",
       "      <td>0.624319</td>\n",
       "    </tr>\n",
       "    <tr>\n",
       "      <th>1</th>\n",
       "      <td>times_past_due_group_normal</td>\n",
       "      <td>0.299719</td>\n",
       "    </tr>\n",
       "    <tr>\n",
       "      <th>2</th>\n",
       "      <td>rev_util_group_high</td>\n",
       "      <td>0.036451</td>\n",
       "    </tr>\n",
       "    <tr>\n",
       "      <th>3</th>\n",
       "      <td>income_group_high</td>\n",
       "      <td>0.014667</td>\n",
       "    </tr>\n",
       "    <tr>\n",
       "      <th>4</th>\n",
       "      <td>age_group_senior</td>\n",
       "      <td>0.012084</td>\n",
       "    </tr>\n",
       "    <tr>\n",
       "      <th>5</th>\n",
       "      <td>debt_group_high</td>\n",
       "      <td>0.007839</td>\n",
       "    </tr>\n",
       "    <tr>\n",
       "      <th>6</th>\n",
       "      <td>age_group_young_adult</td>\n",
       "      <td>0.004531</td>\n",
       "    </tr>\n",
       "    <tr>\n",
       "      <th>7</th>\n",
       "      <td>open_credit_group_high</td>\n",
       "      <td>0.000389</td>\n",
       "    </tr>\n",
       "    <tr>\n",
       "      <th>15</th>\n",
       "      <td>income_group_low</td>\n",
       "      <td>0.000000</td>\n",
       "    </tr>\n",
       "    <tr>\n",
       "      <th>20</th>\n",
       "      <td>real_estate_group_low</td>\n",
       "      <td>0.000000</td>\n",
       "    </tr>\n",
       "    <tr>\n",
       "      <th>19</th>\n",
       "      <td>open_credit_group_low</td>\n",
       "      <td>0.000000</td>\n",
       "    </tr>\n",
       "    <tr>\n",
       "      <th>18</th>\n",
       "      <td>age_group_juvenile</td>\n",
       "      <td>0.000000</td>\n",
       "    </tr>\n",
       "    <tr>\n",
       "      <th>17</th>\n",
       "      <td>income_group_medium</td>\n",
       "      <td>0.000000</td>\n",
       "    </tr>\n",
       "    <tr>\n",
       "      <th>16</th>\n",
       "      <td>debt_group_medium</td>\n",
       "      <td>0.000000</td>\n",
       "    </tr>\n",
       "    <tr>\n",
       "      <th>11</th>\n",
       "      <td>rev_util_group_medium</td>\n",
       "      <td>0.000000</td>\n",
       "    </tr>\n",
       "    <tr>\n",
       "      <th>14</th>\n",
       "      <td>rev_util_group_low</td>\n",
       "      <td>0.000000</td>\n",
       "    </tr>\n",
       "    <tr>\n",
       "      <th>13</th>\n",
       "      <td>debt_group_low</td>\n",
       "      <td>0.000000</td>\n",
       "    </tr>\n",
       "    <tr>\n",
       "      <th>12</th>\n",
       "      <td>age_group_middle_aged</td>\n",
       "      <td>0.000000</td>\n",
       "    </tr>\n",
       "    <tr>\n",
       "      <th>10</th>\n",
       "      <td>open_credit_group_medium</td>\n",
       "      <td>0.000000</td>\n",
       "    </tr>\n",
       "    <tr>\n",
       "      <th>9</th>\n",
       "      <td>age_group_adult</td>\n",
       "      <td>0.000000</td>\n",
       "    </tr>\n",
       "    <tr>\n",
       "      <th>8</th>\n",
       "      <td>times_past_due_group_high</td>\n",
       "      <td>0.000000</td>\n",
       "    </tr>\n",
       "    <tr>\n",
       "      <th>21</th>\n",
       "      <td>real_estate_group_high</td>\n",
       "      <td>0.000000</td>\n",
       "    </tr>\n",
       "  </tbody>\n",
       "</table>\n",
       "</div>"
      ],
      "text/plain": [
       "                        Feature  Importance Weight\n",
       "0      rev_util_group_very high           0.624319\n",
       "1   times_past_due_group_normal           0.299719\n",
       "2           rev_util_group_high           0.036451\n",
       "3             income_group_high           0.014667\n",
       "4              age_group_senior           0.012084\n",
       "5               debt_group_high           0.007839\n",
       "6         age_group_young_adult           0.004531\n",
       "7        open_credit_group_high           0.000389\n",
       "15             income_group_low           0.000000\n",
       "20        real_estate_group_low           0.000000\n",
       "19        open_credit_group_low           0.000000\n",
       "18           age_group_juvenile           0.000000\n",
       "17          income_group_medium           0.000000\n",
       "16            debt_group_medium           0.000000\n",
       "11        rev_util_group_medium           0.000000\n",
       "14           rev_util_group_low           0.000000\n",
       "13               debt_group_low           0.000000\n",
       "12        age_group_middle_aged           0.000000\n",
       "10     open_credit_group_medium           0.000000\n",
       "9               age_group_adult           0.000000\n",
       "8     times_past_due_group_high           0.000000\n",
       "21       real_estate_group_high           0.000000"
      ]
     },
     "execution_count": 35,
     "metadata": {},
     "output_type": "execute_result"
    }
   ],
   "source": [
    "clean.rank_features(dec_tree, x_train)"
   ]
  },
  {
   "cell_type": "markdown",
   "metadata": {},
   "source": [
    "# Holding threshold constant, varying max_depth and observe changes in accuracy"
   ]
  },
  {
   "cell_type": "code",
   "execution_count": 36,
   "metadata": {},
   "outputs": [],
   "source": [
    "threshold = .3"
   ]
  },
  {
   "cell_type": "code",
   "execution_count": 37,
   "metadata": {},
   "outputs": [],
   "source": [
    "depth_list = [1, 3, 5, 8, 10, 20, 30, 50]"
   ]
  },
  {
   "cell_type": "code",
   "execution_count": 38,
   "metadata": {},
   "outputs": [
    {
     "name": "stdout",
     "output_type": "stream",
     "text": [
      "Depth: 1 | Train acc: 0.79 | Test acc: 0.79\n",
      "Depth: 3 | Train acc: 0.78 | Test acc: 0.78\n",
      "Depth: 5 | Train acc: 0.82 | Test acc: 0.82\n",
      "Depth: 8 | Train acc: 0.82 | Test acc: 0.81\n",
      "Depth: 10 | Train acc: 0.82 | Test acc: 0.81\n",
      "Depth: 20 | Train acc: 0.83 | Test acc: 0.81\n",
      "Depth: 30 | Train acc: 0.83 | Test acc: 0.81\n",
      "Depth: 50 | Train acc: 0.83 | Test acc: 0.81\n"
     ]
    }
   ],
   "source": [
    "clean.evaluate_accuracy_by_max_depth(threshold, depth_list, x_train, y_train, x_test, y_test)"
   ]
  },
  {
   "cell_type": "markdown",
   "metadata": {},
   "source": [
    "# Holding max_depth constant, varying threshold and observe changes in accuracy"
   ]
  },
  {
   "cell_type": "code",
   "execution_count": 39,
   "metadata": {},
   "outputs": [],
   "source": [
    "threshold_list = [0.1, 0.2, 0.3, 0.4, 0.5, 0.6, 0.7, 0.8, 0.9]"
   ]
  },
  {
   "cell_type": "code",
   "execution_count": 40,
   "metadata": {},
   "outputs": [],
   "source": [
    "max_depth = 3"
   ]
  },
  {
   "cell_type": "code",
   "execution_count": 41,
   "metadata": {},
   "outputs": [
    {
     "name": "stdout",
     "output_type": "stream",
     "text": [
      "Threshold: 0.1 | Train acc: 0.58 | Test acc: 0.58\n",
      "Threshold: 0.2 | Train acc: 0.78 | Test acc: 0.78\n",
      "Threshold: 0.3 | Train acc: 0.78 | Test acc: 0.78\n",
      "Threshold: 0.4 | Train acc: 0.85 | Test acc: 0.85\n",
      "Threshold: 0.5 | Train acc: 0.85 | Test acc: 0.85\n",
      "Threshold: 0.6 | Train acc: 0.85 | Test acc: 0.85\n",
      "Threshold: 0.7 | Train acc: 0.84 | Test acc: 0.84\n",
      "Threshold: 0.8 | Train acc: 0.84 | Test acc: 0.84\n",
      "Threshold: 0.9 | Train acc: 0.84 | Test acc: 0.84\n"
     ]
    }
   ],
   "source": [
    "clean.evaluate_accuracy_by_threshold(max_depth, \n",
    "                                     threshold_list,\n",
    "                                     x_train, \n",
    "                                     y_train, \n",
    "                                     x_test, \n",
    "                                     y_test)"
   ]
  }
 ],
 "metadata": {
  "kernelspec": {
   "display_name": "Python 3",
   "language": "python",
   "name": "python3"
  },
  "language_info": {
   "codemirror_mode": {
    "name": "ipython",
    "version": 3
   },
   "file_extension": ".py",
   "mimetype": "text/x-python",
   "name": "python",
   "nbconvert_exporter": "python",
   "pygments_lexer": "ipython3",
   "version": "3.7.3"
  }
 },
 "nbformat": 4,
 "nbformat_minor": 2
}
